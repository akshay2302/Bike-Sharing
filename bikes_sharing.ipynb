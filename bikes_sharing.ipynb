{
 "cells": [
  {
   "cell_type": "code",
   "execution_count": 1,
   "metadata": {},
   "outputs": [],
   "source": [
    "import numpy as np\n",
    "import pandas as pd\n",
    "import matplotlib.pyplot as plt\n",
    "import seaborn as sns\n",
    "import sklearn\n",
    "from sklearn.linear_model import LinearRegression\n",
    "from sklearn.metrics import mean_squared_error\n",
    "from sklearn.model_selection import train_test_split"
   ]
  },
  {
   "cell_type": "code",
   "execution_count": 40,
   "metadata": {},
   "outputs": [],
   "source": [
    "import warnings\n",
    "warnings.filterwarnings('ignore')"
   ]
  },
  {
   "cell_type": "code",
   "execution_count": 2,
   "metadata": {},
   "outputs": [],
   "source": [
    "df=pd.read_csv('bikes.csv')"
   ]
  },
  {
   "cell_type": "code",
   "execution_count": 3,
   "metadata": {},
   "outputs": [
    {
     "data": {
      "text/html": [
       "<div>\n",
       "<style scoped>\n",
       "    .dataframe tbody tr th:only-of-type {\n",
       "        vertical-align: middle;\n",
       "    }\n",
       "\n",
       "    .dataframe tbody tr th {\n",
       "        vertical-align: top;\n",
       "    }\n",
       "\n",
       "    .dataframe thead th {\n",
       "        text-align: right;\n",
       "    }\n",
       "</style>\n",
       "<table border=\"1\" class=\"dataframe\">\n",
       "  <thead>\n",
       "    <tr style=\"text-align: right;\">\n",
       "      <th></th>\n",
       "      <th>date</th>\n",
       "      <th>temperature</th>\n",
       "      <th>humidity</th>\n",
       "      <th>windspeed</th>\n",
       "      <th>count</th>\n",
       "    </tr>\n",
       "  </thead>\n",
       "  <tbody>\n",
       "    <tr>\n",
       "      <td>0</td>\n",
       "      <td>2011-01-03</td>\n",
       "      <td>2.716070</td>\n",
       "      <td>45.715346</td>\n",
       "      <td>21.414957</td>\n",
       "      <td>120.000000</td>\n",
       "    </tr>\n",
       "    <tr>\n",
       "      <td>1</td>\n",
       "      <td>2011-01-04</td>\n",
       "      <td>2.896673</td>\n",
       "      <td>54.267219</td>\n",
       "      <td>15.136882</td>\n",
       "      <td>108.000000</td>\n",
       "    </tr>\n",
       "    <tr>\n",
       "      <td>2</td>\n",
       "      <td>2011-01-05</td>\n",
       "      <td>4.235654</td>\n",
       "      <td>45.697702</td>\n",
       "      <td>17.034578</td>\n",
       "      <td>82.000000</td>\n",
       "    </tr>\n",
       "    <tr>\n",
       "      <td>3</td>\n",
       "      <td>2011-01-06</td>\n",
       "      <td>3.112643</td>\n",
       "      <td>50.237349</td>\n",
       "      <td>10.091568</td>\n",
       "      <td>88.000000</td>\n",
       "    </tr>\n",
       "    <tr>\n",
       "      <td>4</td>\n",
       "      <td>2011-01-07</td>\n",
       "      <td>2.723918</td>\n",
       "      <td>49.144928</td>\n",
       "      <td>15.738204</td>\n",
       "      <td>148.000000</td>\n",
       "    </tr>\n",
       "    <tr>\n",
       "      <td>...</td>\n",
       "      <td>...</td>\n",
       "      <td>...</td>\n",
       "      <td>...</td>\n",
       "      <td>...</td>\n",
       "      <td>...</td>\n",
       "    </tr>\n",
       "    <tr>\n",
       "      <td>186</td>\n",
       "      <td>2011-07-08</td>\n",
       "      <td>28.187490</td>\n",
       "      <td>63.618656</td>\n",
       "      <td>19.761499</td>\n",
       "      <td>692.000000</td>\n",
       "    </tr>\n",
       "    <tr>\n",
       "      <td>187</td>\n",
       "      <td>2011-07-09</td>\n",
       "      <td>29.070524</td>\n",
       "      <td>61.346450</td>\n",
       "      <td>21.121738</td>\n",
       "      <td>702.333333</td>\n",
       "    </tr>\n",
       "    <tr>\n",
       "      <td>188</td>\n",
       "      <td>2011-07-10</td>\n",
       "      <td>29.953558</td>\n",
       "      <td>59.074244</td>\n",
       "      <td>22.481976</td>\n",
       "      <td>712.666667</td>\n",
       "    </tr>\n",
       "    <tr>\n",
       "      <td>189</td>\n",
       "      <td>2011-07-11</td>\n",
       "      <td>30.836592</td>\n",
       "      <td>56.802038</td>\n",
       "      <td>23.842215</td>\n",
       "      <td>723.000000</td>\n",
       "    </tr>\n",
       "    <tr>\n",
       "      <td>190</td>\n",
       "      <td>2011-07-12</td>\n",
       "      <td>32.409522</td>\n",
       "      <td>52.521355</td>\n",
       "      <td>17.987135</td>\n",
       "      <td>662.000000</td>\n",
       "    </tr>\n",
       "  </tbody>\n",
       "</table>\n",
       "<p>191 rows × 5 columns</p>\n",
       "</div>"
      ],
      "text/plain": [
       "           date  temperature   humidity  windspeed       count\n",
       "0    2011-01-03     2.716070  45.715346  21.414957  120.000000\n",
       "1    2011-01-04     2.896673  54.267219  15.136882  108.000000\n",
       "2    2011-01-05     4.235654  45.697702  17.034578   82.000000\n",
       "3    2011-01-06     3.112643  50.237349  10.091568   88.000000\n",
       "4    2011-01-07     2.723918  49.144928  15.738204  148.000000\n",
       "..          ...          ...        ...        ...         ...\n",
       "186  2011-07-08    28.187490  63.618656  19.761499  692.000000\n",
       "187  2011-07-09    29.070524  61.346450  21.121738  702.333333\n",
       "188  2011-07-10    29.953558  59.074244  22.481976  712.666667\n",
       "189  2011-07-11    30.836592  56.802038  23.842215  723.000000\n",
       "190  2011-07-12    32.409522  52.521355  17.987135  662.000000\n",
       "\n",
       "[191 rows x 5 columns]"
      ]
     },
     "execution_count": 3,
     "metadata": {},
     "output_type": "execute_result"
    }
   ],
   "source": [
    "df"
   ]
  },
  {
   "cell_type": "markdown",
   "metadata": {},
   "source": [
    "# Summary Stats:"
   ]
  },
  {
   "cell_type": "code",
   "execution_count": 4,
   "metadata": {},
   "outputs": [
    {
     "data": {
      "text/plain": [
       "Index(['date', 'temperature', 'humidity', 'windspeed', 'count'], dtype='object')"
      ]
     },
     "execution_count": 4,
     "metadata": {},
     "output_type": "execute_result"
    }
   ],
   "source": [
    "df.keys()"
   ]
  },
  {
   "cell_type": "code",
   "execution_count": 5,
   "metadata": {},
   "outputs": [
    {
     "data": {
      "text/plain": [
       "0      2011-01-03\n",
       "1      2011-01-04\n",
       "2      2011-01-05\n",
       "3      2011-01-06\n",
       "4      2011-01-07\n",
       "          ...    \n",
       "186    2011-07-08\n",
       "187    2011-07-09\n",
       "188    2011-07-10\n",
       "189    2011-07-11\n",
       "190    2011-07-12\n",
       "Name: date, Length: 191, dtype: object"
      ]
     },
     "execution_count": 5,
     "metadata": {},
     "output_type": "execute_result"
    }
   ],
   "source": [
    "df.date"
   ]
  },
  {
   "cell_type": "code",
   "execution_count": 8,
   "metadata": {},
   "outputs": [
    {
     "data": {
      "text/plain": [
       "(191, 5)"
      ]
     },
     "execution_count": 8,
     "metadata": {},
     "output_type": "execute_result"
    }
   ],
   "source": [
    "df.shape"
   ]
  },
  {
   "cell_type": "code",
   "execution_count": 9,
   "metadata": {},
   "outputs": [
    {
     "data": {
      "text/plain": [
       "Index(['date', 'temperature', 'humidity', 'windspeed', 'count'], dtype='object')"
      ]
     },
     "execution_count": 9,
     "metadata": {},
     "output_type": "execute_result"
    }
   ],
   "source": [
    "df.columns"
   ]
  },
  {
   "cell_type": "code",
   "execution_count": 10,
   "metadata": {},
   "outputs": [
    {
     "data": {
      "text/plain": [
       "date            object\n",
       "temperature    float64\n",
       "humidity       float64\n",
       "windspeed      float64\n",
       "count          float64\n",
       "dtype: object"
      ]
     },
     "execution_count": 10,
     "metadata": {},
     "output_type": "execute_result"
    }
   ],
   "source": [
    "df.dtypes"
   ]
  },
  {
   "cell_type": "code",
   "execution_count": 12,
   "metadata": {},
   "outputs": [
    {
     "data": {
      "text/plain": [
       "date           0\n",
       "temperature    0\n",
       "humidity       0\n",
       "windspeed      0\n",
       "count          0\n",
       "dtype: int64"
      ]
     },
     "execution_count": 12,
     "metadata": {},
     "output_type": "execute_result"
    }
   ],
   "source": [
    "df.isnull().sum()"
   ]
  },
  {
   "cell_type": "markdown",
   "metadata": {},
   "source": [
    "# Data Visualization"
   ]
  },
  {
   "cell_type": "code",
   "execution_count": 13,
   "metadata": {},
   "outputs": [
    {
     "data": {
      "text/plain": [
       "<matplotlib.axes._subplots.AxesSubplot at 0x2decda567f0>"
      ]
     },
     "execution_count": 13,
     "metadata": {},
     "output_type": "execute_result"
    },
    {
     "data": {
      "image/png": "[encoded data removed]",
      "text/plain": [
       "<Figure size 432x288 with 2 Axes>"
      ]
     },
     "metadata": {
      "needs_background": "light"
     },
     "output_type": "display_data"
    }
   ],
   "source": [
    "sns.heatmap(df.isnull())"
   ]
  },
  {
   "cell_type": "code",
   "execution_count": 14,
   "metadata": {},
   "outputs": [
    {
     "data": {
      "text/html": [
       "<div>\n",
       "<style scoped>\n",
       "    .dataframe tbody tr th:only-of-type {\n",
       "        vertical-align: middle;\n",
       "    }\n",
       "\n",
       "    .dataframe tbody tr th {\n",
       "        vertical-align: top;\n",
       "    }\n",
       "\n",
       "    .dataframe thead th {\n",
       "        text-align: right;\n",
       "    }\n",
       "</style>\n",
       "<table border=\"1\" class=\"dataframe\">\n",
       "  <thead>\n",
       "    <tr style=\"text-align: right;\">\n",
       "      <th></th>\n",
       "      <th>temperature</th>\n",
       "      <th>humidity</th>\n",
       "      <th>windspeed</th>\n",
       "      <th>count</th>\n",
       "    </tr>\n",
       "  </thead>\n",
       "  <tbody>\n",
       "    <tr>\n",
       "      <td>count</td>\n",
       "      <td>191.000000</td>\n",
       "      <td>191.000000</td>\n",
       "      <td>191.000000</td>\n",
       "      <td>191.000000</td>\n",
       "    </tr>\n",
       "    <tr>\n",
       "      <td>mean</td>\n",
       "      <td>15.319033</td>\n",
       "      <td>55.469244</td>\n",
       "      <td>18.605591</td>\n",
       "      <td>461.976440</td>\n",
       "    </tr>\n",
       "    <tr>\n",
       "      <td>std</td>\n",
       "      <td>9.876723</td>\n",
       "      <td>7.998748</td>\n",
       "      <td>5.049424</td>\n",
       "      <td>321.669925</td>\n",
       "    </tr>\n",
       "    <tr>\n",
       "      <td>min</td>\n",
       "      <td>-2.200000</td>\n",
       "      <td>21.300000</td>\n",
       "      <td>6.941802</td>\n",
       "      <td>9.000000</td>\n",
       "    </tr>\n",
       "    <tr>\n",
       "      <td>25%</td>\n",
       "      <td>6.091402</td>\n",
       "      <td>49.593148</td>\n",
       "      <td>14.600733</td>\n",
       "      <td>144.000000</td>\n",
       "    </tr>\n",
       "    <tr>\n",
       "      <td>50%</td>\n",
       "      <td>15.769749</td>\n",
       "      <td>55.080463</td>\n",
       "      <td>18.474898</td>\n",
       "      <td>460.000000</td>\n",
       "    </tr>\n",
       "    <tr>\n",
       "      <td>75%</td>\n",
       "      <td>24.255189</td>\n",
       "      <td>62.046729</td>\n",
       "      <td>21.621460</td>\n",
       "      <td>740.333333</td>\n",
       "    </tr>\n",
       "    <tr>\n",
       "      <td>max</td>\n",
       "      <td>33.113161</td>\n",
       "      <td>72.575560</td>\n",
       "      <td>33.512660</td>\n",
       "      <td>1246.000000</td>\n",
       "    </tr>\n",
       "  </tbody>\n",
       "</table>\n",
       "</div>"
      ],
      "text/plain": [
       "       temperature    humidity   windspeed        count\n",
       "count   191.000000  191.000000  191.000000   191.000000\n",
       "mean     15.319033   55.469244   18.605591   461.976440\n",
       "std       9.876723    7.998748    5.049424   321.669925\n",
       "min      -2.200000   21.300000    6.941802     9.000000\n",
       "25%       6.091402   49.593148   14.600733   144.000000\n",
       "50%      15.769749   55.080463   18.474898   460.000000\n",
       "75%      24.255189   62.046729   21.621460   740.333333\n",
       "max      33.113161   72.575560   33.512660  1246.000000"
      ]
     },
     "execution_count": 14,
     "metadata": {},
     "output_type": "execute_result"
    }
   ],
   "source": [
    "df.describe()"
   ]
  },
  {
   "cell_type": "code",
   "execution_count": 15,
   "metadata": {},
   "outputs": [
    {
     "data": {
      "text/html": [
       "<div>\n",
       "<style scoped>\n",
       "    .dataframe tbody tr th:only-of-type {\n",
       "        vertical-align: middle;\n",
       "    }\n",
       "\n",
       "    .dataframe tbody tr th {\n",
       "        vertical-align: top;\n",
       "    }\n",
       "\n",
       "    .dataframe thead th {\n",
       "        text-align: right;\n",
       "    }\n",
       "</style>\n",
       "<table border=\"1\" class=\"dataframe\">\n",
       "  <thead>\n",
       "    <tr style=\"text-align: right;\">\n",
       "      <th></th>\n",
       "      <th>temperature</th>\n",
       "      <th>humidity</th>\n",
       "      <th>windspeed</th>\n",
       "      <th>count</th>\n",
       "    </tr>\n",
       "  </thead>\n",
       "  <tbody>\n",
       "    <tr>\n",
       "      <td>0</td>\n",
       "      <td>2.716070</td>\n",
       "      <td>45.715346</td>\n",
       "      <td>21.414957</td>\n",
       "      <td>120.000000</td>\n",
       "    </tr>\n",
       "    <tr>\n",
       "      <td>1</td>\n",
       "      <td>2.896673</td>\n",
       "      <td>54.267219</td>\n",
       "      <td>15.136882</td>\n",
       "      <td>108.000000</td>\n",
       "    </tr>\n",
       "    <tr>\n",
       "      <td>2</td>\n",
       "      <td>4.235654</td>\n",
       "      <td>45.697702</td>\n",
       "      <td>17.034578</td>\n",
       "      <td>82.000000</td>\n",
       "    </tr>\n",
       "    <tr>\n",
       "      <td>3</td>\n",
       "      <td>3.112643</td>\n",
       "      <td>50.237349</td>\n",
       "      <td>10.091568</td>\n",
       "      <td>88.000000</td>\n",
       "    </tr>\n",
       "    <tr>\n",
       "      <td>4</td>\n",
       "      <td>2.723918</td>\n",
       "      <td>49.144928</td>\n",
       "      <td>15.738204</td>\n",
       "      <td>148.000000</td>\n",
       "    </tr>\n",
       "    <tr>\n",
       "      <td>...</td>\n",
       "      <td>...</td>\n",
       "      <td>...</td>\n",
       "      <td>...</td>\n",
       "      <td>...</td>\n",
       "    </tr>\n",
       "    <tr>\n",
       "      <td>186</td>\n",
       "      <td>28.187490</td>\n",
       "      <td>63.618656</td>\n",
       "      <td>19.761499</td>\n",
       "      <td>692.000000</td>\n",
       "    </tr>\n",
       "    <tr>\n",
       "      <td>187</td>\n",
       "      <td>29.070524</td>\n",
       "      <td>61.346450</td>\n",
       "      <td>21.121738</td>\n",
       "      <td>702.333333</td>\n",
       "    </tr>\n",
       "    <tr>\n",
       "      <td>188</td>\n",
       "      <td>29.953558</td>\n",
       "      <td>59.074244</td>\n",
       "      <td>22.481976</td>\n",
       "      <td>712.666667</td>\n",
       "    </tr>\n",
       "    <tr>\n",
       "      <td>189</td>\n",
       "      <td>30.836592</td>\n",
       "      <td>56.802038</td>\n",
       "      <td>23.842215</td>\n",
       "      <td>723.000000</td>\n",
       "    </tr>\n",
       "    <tr>\n",
       "      <td>190</td>\n",
       "      <td>32.409522</td>\n",
       "      <td>52.521355</td>\n",
       "      <td>17.987135</td>\n",
       "      <td>662.000000</td>\n",
       "    </tr>\n",
       "  </tbody>\n",
       "</table>\n",
       "<p>191 rows × 4 columns</p>\n",
       "</div>"
      ],
      "text/plain": [
       "     temperature   humidity  windspeed       count\n",
       "0       2.716070  45.715346  21.414957  120.000000\n",
       "1       2.896673  54.267219  15.136882  108.000000\n",
       "2       4.235654  45.697702  17.034578   82.000000\n",
       "3       3.112643  50.237349  10.091568   88.000000\n",
       "4       2.723918  49.144928  15.738204  148.000000\n",
       "..           ...        ...        ...         ...\n",
       "186    28.187490  63.618656  19.761499  692.000000\n",
       "187    29.070524  61.346450  21.121738  702.333333\n",
       "188    29.953558  59.074244  22.481976  712.666667\n",
       "189    30.836592  56.802038  23.842215  723.000000\n",
       "190    32.409522  52.521355  17.987135  662.000000\n",
       "\n",
       "[191 rows x 4 columns]"
      ]
     },
     "execution_count": 15,
     "metadata": {},
     "output_type": "execute_result"
    }
   ],
   "source": [
    "df.drop(['date'],axis=1,inplace=True)\n",
    "df"
   ]
  },
  {
   "cell_type": "code",
   "execution_count": 16,
   "metadata": {},
   "outputs": [
    {
     "data": {
      "text/html": [
       "<div>\n",
       "<style scoped>\n",
       "    .dataframe tbody tr th:only-of-type {\n",
       "        vertical-align: middle;\n",
       "    }\n",
       "\n",
       "    .dataframe tbody tr th {\n",
       "        vertical-align: top;\n",
       "    }\n",
       "\n",
       "    .dataframe thead th {\n",
       "        text-align: right;\n",
       "    }\n",
       "</style>\n",
       "<table border=\"1\" class=\"dataframe\">\n",
       "  <thead>\n",
       "    <tr style=\"text-align: right;\">\n",
       "      <th></th>\n",
       "      <th>temperature</th>\n",
       "      <th>humidity</th>\n",
       "      <th>windspeed</th>\n",
       "      <th>count</th>\n",
       "    </tr>\n",
       "  </thead>\n",
       "  <tbody>\n",
       "    <tr>\n",
       "      <td>count</td>\n",
       "      <td>191.000000</td>\n",
       "      <td>191.000000</td>\n",
       "      <td>191.000000</td>\n",
       "      <td>191.000000</td>\n",
       "    </tr>\n",
       "    <tr>\n",
       "      <td>mean</td>\n",
       "      <td>15.319033</td>\n",
       "      <td>55.469244</td>\n",
       "      <td>18.605591</td>\n",
       "      <td>461.976440</td>\n",
       "    </tr>\n",
       "    <tr>\n",
       "      <td>std</td>\n",
       "      <td>9.876723</td>\n",
       "      <td>7.998748</td>\n",
       "      <td>5.049424</td>\n",
       "      <td>321.669925</td>\n",
       "    </tr>\n",
       "    <tr>\n",
       "      <td>min</td>\n",
       "      <td>-2.200000</td>\n",
       "      <td>21.300000</td>\n",
       "      <td>6.941802</td>\n",
       "      <td>9.000000</td>\n",
       "    </tr>\n",
       "    <tr>\n",
       "      <td>25%</td>\n",
       "      <td>6.091402</td>\n",
       "      <td>49.593148</td>\n",
       "      <td>14.600733</td>\n",
       "      <td>144.000000</td>\n",
       "    </tr>\n",
       "    <tr>\n",
       "      <td>50%</td>\n",
       "      <td>15.769749</td>\n",
       "      <td>55.080463</td>\n",
       "      <td>18.474898</td>\n",
       "      <td>460.000000</td>\n",
       "    </tr>\n",
       "    <tr>\n",
       "      <td>75%</td>\n",
       "      <td>24.255189</td>\n",
       "      <td>62.046729</td>\n",
       "      <td>21.621460</td>\n",
       "      <td>740.333333</td>\n",
       "    </tr>\n",
       "    <tr>\n",
       "      <td>max</td>\n",
       "      <td>33.113161</td>\n",
       "      <td>72.575560</td>\n",
       "      <td>33.512660</td>\n",
       "      <td>1246.000000</td>\n",
       "    </tr>\n",
       "  </tbody>\n",
       "</table>\n",
       "</div>"
      ],
      "text/plain": [
       "       temperature    humidity   windspeed        count\n",
       "count   191.000000  191.000000  191.000000   191.000000\n",
       "mean     15.319033   55.469244   18.605591   461.976440\n",
       "std       9.876723    7.998748    5.049424   321.669925\n",
       "min      -2.200000   21.300000    6.941802     9.000000\n",
       "25%       6.091402   49.593148   14.600733   144.000000\n",
       "50%      15.769749   55.080463   18.474898   460.000000\n",
       "75%      24.255189   62.046729   21.621460   740.333333\n",
       "max      33.113161   72.575560   33.512660  1246.000000"
      ]
     },
     "execution_count": 16,
     "metadata": {},
     "output_type": "execute_result"
    }
   ],
   "source": [
    "df.describe()"
   ]
  },
  {
   "cell_type": "code",
   "execution_count": 18,
   "metadata": {},
   "outputs": [
    {
     "data": {
      "text/plain": [
       "<matplotlib.axes._subplots.AxesSubplot at 0x2dedd27f240>"
      ]
     },
     "execution_count": 18,
     "metadata": {},
     "output_type": "execute_result"
    },
    {
     "data": {
      "image/png": "[encoded data removed]",
      "text/plain": [
       "<Figure size 432x288 with 1 Axes>"
      ]
     },
     "metadata": {
      "needs_background": "light"
     },
     "output_type": "display_data"
    }
   ],
   "source": [
    "df['temperature'].plot.box()"
   ]
  },
  {
   "cell_type": "code",
   "execution_count": 19,
   "metadata": {},
   "outputs": [
    {
     "data": {
      "text/plain": [
       "<matplotlib.axes._subplots.AxesSubplot at 0x2dedd2e7f60>"
      ]
     },
     "execution_count": 19,
     "metadata": {},
     "output_type": "execute_result"
    },
    {
     "data": {
      "image/png": "[encoded data removed]",
      "text/plain": [
       "<Figure size 432x288 with 1 Axes>"
      ]
     },
     "metadata": {
      "needs_background": "light"
     },
     "output_type": "display_data"
    }
   ],
   "source": [
    "df['humidity'].plot.box()"
   ]
  },
  {
   "cell_type": "code",
   "execution_count": 20,
   "metadata": {},
   "outputs": [
    {
     "data": {
      "text/plain": [
       "<matplotlib.axes._subplots.AxesSubplot at 0x2dedd340c88>"
      ]
     },
     "execution_count": 20,
     "metadata": {},
     "output_type": "execute_result"
    },
    {
     "data": {
      "image/png": "[encoded data removed]",
      "text/plain": [
       "<Figure size 432x288 with 1 Axes>"
      ]
     },
     "metadata": {
      "needs_background": "light"
     },
     "output_type": "display_data"
    }
   ],
   "source": [
    "df['windspeed'].plot.box()"
   ]
  },
  {
   "cell_type": "code",
   "execution_count": 21,
   "metadata": {},
   "outputs": [
    {
     "data": {
      "text/plain": [
       "<matplotlib.axes._subplots.AxesSubplot at 0x2dedd399a90>"
      ]
     },
     "execution_count": 21,
     "metadata": {},
     "output_type": "execute_result"
    },
    {
     "data": {
      "image/png": "[encoded data removed]",
      "text/plain": [
       "<Figure size 432x288 with 1 Axes>"
      ]
     },
     "metadata": {
      "needs_background": "light"
     },
     "output_type": "display_data"
    }
   ],
   "source": [
    "df['count'].plot.box()"
   ]
  },
  {
   "cell_type": "code",
   "execution_count": 22,
   "metadata": {},
   "outputs": [
    {
     "data": {
      "text/plain": [
       "<matplotlib.axes._subplots.AxesSubplot at 0x2dedd4045c0>"
      ]
     },
     "execution_count": 22,
     "metadata": {},
     "output_type": "execute_result"
    },
    {
     "data": {
      "image/png": "[encoded data removed]",
      "text/plain": [
       "<Figure size 432x288 with 1 Axes>"
      ]
     },
     "metadata": {
      "needs_background": "light"
     },
     "output_type": "display_data"
    }
   ],
   "source": [
    "sns.distplot(df['temperature'])"
   ]
  },
  {
   "cell_type": "code",
   "execution_count": 24,
   "metadata": {},
   "outputs": [],
   "source": [
    "collist=df.columns.values"
   ]
  },
  {
   "cell_type": "code",
   "execution_count": 27,
   "metadata": {},
   "outputs": [],
   "source": [
    "ncol=4\n",
    "nrows=10"
   ]
  },
  {
   "cell_type": "code",
   "execution_count": 28,
   "metadata": {},
   "outputs": [
    {
     "data": {
      "image/png": "[encoded data removed]",
      "text/plain": [
       "<Figure size 1152x1152 with 4 Axes>"
      ]
     },
     "metadata": {
      "needs_background": "light"
     },
     "output_type": "display_data"
    }
   ],
   "source": [
    "plt.figure(figsize=(16,16))\n",
    "for i in range(0,len(collist)):\n",
    "    plt.subplot(nrows,ncol,i+1)\n",
    "    sns.distplot(df[collist[i]])"
   ]
  },
  {
   "cell_type": "code",
   "execution_count": 30,
   "metadata": {},
   "outputs": [
    {
     "data": {
      "image/png": "[encoded data removed]",
      "text/plain": [
       "<Figure size 432x288 with 1 Axes>"
      ]
     },
     "metadata": {
      "needs_background": "light"
     },
     "output_type": "display_data"
    }
   ],
   "source": [
    "plt.scatter(df['temperature'],df['count'])\n",
    "plt.show()"
   ]
  },
  {
   "cell_type": "code",
   "execution_count": 31,
   "metadata": {},
   "outputs": [
    {
     "data": {
      "image/png": "[encoded data removed]",
      "text/plain": [
       "<Figure size 432x288 with 1 Axes>"
      ]
     },
     "metadata": {
      "needs_background": "light"
     },
     "output_type": "display_data"
    }
   ],
   "source": [
    "plt.scatter(df['humidity'],df['count'])\n",
    "plt.show()"
   ]
  },
  {
   "cell_type": "code",
   "execution_count": 33,
   "metadata": {},
   "outputs": [
    {
     "data": {
      "image/png": "[encoded data removed]",
      "text/plain": [
       "<Figure size 432x288 with 1 Axes>"
      ]
     },
     "metadata": {
      "needs_background": "light"
     },
     "output_type": "display_data"
    }
   ],
   "source": [
    "plt.scatter(df['windspeed'],df['count'])\n",
    "plt.show()"
   ]
  },
  {
   "cell_type": "code",
   "execution_count": 34,
   "metadata": {},
   "outputs": [
    {
     "data": {
      "text/plain": [
       "<seaborn.axisgrid.PairGrid at 0x2dedd8590f0>"
      ]
     },
     "execution_count": 34,
     "metadata": {},
     "output_type": "execute_result"
    },
    {
     "data": {
      "image/png": "[encoded data removed]",
      "text/plain": [
       "<Figure size 720x720 with 20 Axes>"
      ]
     },
     "metadata": {
      "needs_background": "light"
     },
     "output_type": "display_data"
    }
   ],
   "source": [
    "sns.pairplot(df)"
   ]
  },
  {
   "cell_type": "markdown",
   "metadata": {},
   "source": [
    "# removing outliers:"
   ]
  },
  {
   "cell_type": "code",
   "execution_count": 37,
   "metadata": {},
   "outputs": [
    {
     "data": {
      "text/plain": [
       "array([[1.27938042, 1.22263292, 0.55783569, 1.06592246],\n",
       "       [1.26104657, 0.15067154, 0.68875681, 1.10332582],\n",
       "       [1.12512099, 1.22484456, 0.3119449 , 1.18436645],\n",
       "       [1.23912261, 0.65580819, 1.69056887, 1.16566476],\n",
       "       [1.27858373, 0.79274114, 0.56935655, 0.97864794],\n",
       "       [1.35537645, 0.82955288, 0.3118552 , 1.08981905],\n",
       "       [1.43216917, 0.86636462, 0.05435384, 1.20099016],\n",
       "       [1.50896189, 0.90317636, 0.20314752, 1.31216128],\n",
       "       [1.41689937, 0.52072335, 1.22930146, 1.30592738],\n",
       "       [1.39856553, 0.0869118 , 1.35550871, 1.36203243],\n",
       "       [1.43752746, 0.99066227, 1.30413686, 1.32151212],\n",
       "       [1.45835221, 0.51887524, 1.16675442, 1.27164096],\n",
       "       [1.38801575, 0.04775526, 1.09513197, 1.30670662],\n",
       "       [1.31767929, 0.61438577, 1.02350952, 1.34177227],\n",
       "       [1.24734283, 1.18101627, 0.95188707, 1.37683793],\n",
       "       [1.17700638, 1.74764678, 0.88026462, 1.41190358],\n",
       "       [0.79627659, 0.90828594, 0.00860026, 1.19683423],\n",
       "       [0.95010237, 0.51532682, 0.18441466, 1.1812495 ],\n",
       "       [1.37449858, 1.08398524, 2.04407852, 1.20618508],\n",
       "       [1.50914291, 1.00313426, 1.12385144, 1.19475627],\n",
       "       [1.64378724, 0.92228328, 0.20362437, 1.18332746],\n",
       "       [1.77843156, 0.8414323 , 0.71660271, 1.17189866],\n",
       "       [1.14266319, 0.03495257, 1.12075062, 0.86020395],\n",
       "       [1.17280613, 1.75347684, 1.20286618, 1.3339799 ],\n",
       "       [1.28625813, 0.52867407, 1.34678961, 1.3932019 ],\n",
       "       [1.24350942, 1.26735612, 1.21275822, 1.32151212],\n",
       "       [1.28157046, 0.82574357, 0.91110851, 1.31735619],\n",
       "       [1.31963151, 0.38413101, 0.6094588 , 1.31320026],\n",
       "       [1.35769255, 0.05748154, 0.30780909, 1.30904433],\n",
       "       [1.3005077 , 1.52296896, 2.20545167, 1.29345959],\n",
       "       [0.95850791, 1.14399398, 0.78444123, 1.21553592],\n",
       "       [1.32681344, 1.21876254, 0.97485843, 1.24982233],\n",
       "       [1.20404829, 0.18719165, 1.14846904, 1.16566476],\n",
       "       [1.10259195, 0.17002149, 1.53764448, 1.13241733],\n",
       "       [1.00113561, 0.52723463, 1.92681991, 1.09916989],\n",
       "       [0.89967926, 0.88444778, 2.31599534, 1.06592246],\n",
       "       [1.15600011, 0.51823835, 2.16741629, 1.24047149],\n",
       "       [1.58989098, 0.82012773, 0.28448142, 1.27475791],\n",
       "       [1.54166127, 1.22180705, 0.18428143, 1.29345959],\n",
       "       [1.31605315, 0.73907379, 1.42167326, 0.97553099],\n",
       "       [0.93635199, 1.04359708, 0.03888129, 0.91423103],\n",
       "       [0.55665084, 1.34812038, 1.49943583, 0.85293108],\n",
       "       [0.17694968, 1.65264367, 2.95999038, 0.79163112],\n",
       "       [0.92781536, 2.08296938, 1.16779678, 1.00358352],\n",
       "       [0.66473782, 1.31918237, 0.6071538 , 0.76046165],\n",
       "       [0.07190321, 0.74862025, 0.29998496, 0.63266682],\n",
       "       [0.36089852, 0.6669644 , 0.79318025, 0.36475624],\n",
       "       [0.06699831, 0.56003737, 0.54799897, 0.02875832],\n",
       "       [0.49489513, 0.45311033, 0.3028177 , 0.42227289],\n",
       "       [0.92279196, 0.3461833 , 0.05763643, 0.81578746],\n",
       "       [1.35068878, 0.23925627, 0.18754485, 1.20930202],\n",
       "       [1.15143177, 1.32222688, 1.62615505, 1.00670046],\n",
       "       [0.77873943, 0.59789992, 0.58881177, 1.1282614 ],\n",
       "       [0.43235283, 0.70136426, 1.94913903, 1.06592246],\n",
       "       [0.36020576, 1.08441258, 1.68072215, 1.10644277],\n",
       "       [0.28805869, 1.4674609 , 1.41230528, 1.14696308],\n",
       "       [0.21591162, 1.85050921, 1.1438884 , 1.18748339],\n",
       "       [0.92489082, 0.53865406, 0.10623927, 1.01293436],\n",
       "       [0.58033457, 1.13647679, 1.40091764, 0.71994133],\n",
       "       [1.26945211, 2.05507887, 0.23837272, 1.05657162],\n",
       "       [0.95010237, 0.01082006, 0.07900817, 0.77292943],\n",
       "       [0.94998136, 0.14872818, 0.5725518 , 0.74175996],\n",
       "       [0.94986034, 0.28663631, 1.22411178, 0.71059049],\n",
       "       [0.94973933, 0.42454443, 1.87567175, 0.67942102],\n",
       "       [0.7946328 , 1.33769439, 1.25029211, 0.45500083],\n",
       "       [0.77782677, 1.14399398, 0.15899917, 0.84461922],\n",
       "       [0.30759092, 4.2830511 , 0.75000919, 1.29657654],\n",
       "       [0.6735064 , 0.26317182, 0.34057821, 0.67007018],\n",
       "       [0.6588921 , 0.09285618, 0.11286893, 0.55370416],\n",
       "       [0.6442778 , 0.44888418, 0.56631607, 0.43733813],\n",
       "       [0.6296635 , 0.80491218, 1.01976321, 0.32097211],\n",
       "       [0.66912463, 0.30577396, 0.34864313, 0.53915841],\n",
       "       [0.42797106, 1.15172774, 0.08225167, 0.4394161 ],\n",
       "       [0.17694968, 0.0633116 , 0.00927437, 0.11837055],\n",
       "       [0.45333921, 0.60712403, 0.31291644, 1.31542509],\n",
       "       [0.2691856 , 0.11213108, 0.58564381, 0.81359662],\n",
       "       [0.085032  , 0.38286188, 0.85837118, 0.31176814],\n",
       "       [0.09912161, 0.87785484, 1.13109855, 0.19006033],\n",
       "       [0.04248637, 0.08832598, 0.23831607, 0.00616046],\n",
       "       [0.52004366, 1.59295769, 0.35886359, 0.80721585],\n",
       "       [0.83245013, 1.3568717 , 0.49378729, 0.92254289],\n",
       "       [0.9374966 , 0.81860898, 0.30878063, 0.50487199],\n",
       "       [0.93719238, 1.26846387, 0.22133848, 0.58591261],\n",
       "       [0.93688816, 1.71831876, 0.13389632, 0.66695323],\n",
       "       [0.93658394, 2.16817366, 0.04645416, 0.74799386],\n",
       "       [0.74420968, 2.08423617, 0.25596408, 0.45188389],\n",
       "       [0.75681546, 0.24288909, 0.5104071 , 0.916309  ],\n",
       "       [0.91649033, 2.14424491, 0.12353319, 0.88202258],\n",
       "       [0.75681546, 0.51992548, 0.70512433, 0.48305336],\n",
       "       [0.29740545, 0.08664351, 1.30407548, 0.03940789],\n",
       "       [0.16200456, 0.6932125 , 1.90302664, 0.40423757],\n",
       "       [0.62141457, 1.29978149, 2.50197779, 0.84788304],\n",
       "       [0.18114993, 0.21080626, 2.53733047, 0.91942595],\n",
       "       [0.29880721, 0.98775074, 0.76680738, 0.15265697],\n",
       "       [0.06349768, 0.0633116 , 0.66020273, 0.33982067],\n",
       "       [0.57613433, 1.56975642, 0.25590742, 0.90384121],\n",
       "       [0.13943825, 1.29144857, 0.71614371, 0.19421626],\n",
       "       [0.29725783, 1.01314072, 1.17638   , 0.51540868],\n",
       "       [0.73395391, 0.73483287, 1.63661629, 1.22503363],\n",
       "       [0.26425254, 0.89028484, 0.93416603, 0.63890071],\n",
       "       [0.18955546, 1.45019468, 0.59052558, 0.78851417],\n",
       "       [0.08777165, 0.50074116, 1.39122124, 0.20890889],\n",
       "       [0.14449765, 0.4970965 , 1.20402274, 0.31800204],\n",
       "       [0.20122365, 0.49345184, 1.01682424, 0.42709518],\n",
       "       [0.25794965, 0.48980717, 0.82962574, 0.53618833],\n",
       "       [0.31467565, 0.48616251, 0.64242725, 0.64528148],\n",
       "       [0.28105856, 0.37702949, 0.72168749, 0.16512476],\n",
       "       [0.73066632, 0.01542572, 0.46741442, 0.47073244],\n",
       "       [0.04575407, 1.43392889, 1.64772066, 0.88216945],\n",
       "       [0.57192904, 0.82320764, 0.15009019, 0.88825648],\n",
       "       [0.11812104, 0.93305262, 0.0113197 , 0.26902299],\n",
       "       [0.33568696, 1.0428976 , 0.17272958, 0.35021049],\n",
       "       [0.78949497, 1.15274258, 0.33413947, 0.96944397],\n",
       "       [0.91555274, 0.82029611, 1.66531201, 0.673334  ],\n",
       "       [0.8567241 , 1.56392636, 1.46277065, 0.26501394],\n",
       "       [0.84411832, 0.62199004, 1.58610843, 0.33358677],\n",
       "       [0.30206988, 1.08398524, 0.44104156, 1.29672341],\n",
       "       [0.36790061, 0.44728144, 0.17377667, 1.26451496],\n",
       "       [0.43373134, 0.18942237, 0.09348823, 1.23230651],\n",
       "       [0.49956208, 0.82612617, 0.36075312, 1.20009805],\n",
       "       [0.83991808, 0.59574427, 1.89429706, 0.43956297],\n",
       "       [0.18114993, 0.87569919, 1.70066469, 0.64513461],\n",
       "       [0.04575407, 1.17438269, 1.22470665, 0.47384939],\n",
       "       [0.1466003 , 0.15371605, 0.27366874, 1.34659456],\n",
       "       [0.23624082, 0.15663224, 0.02700264, 1.10762862],\n",
       "       [0.32588135, 0.15954844, 0.21966347, 0.86866268],\n",
       "       [0.41552188, 0.16246464, 0.46632957, 0.62969674],\n",
       "       [0.41552188, 0.8594334 , 1.32081333, 0.72320515],\n",
       "       [0.46594499, 0.14665459, 1.25040542, 0.27436478],\n",
       "       [0.42812765, 0.94860645, 0.27275385, 0.7263221 ],\n",
       "       [0.31467565, 1.7593069 , 0.41356967, 0.71697126],\n",
       "       [0.42392573, 1.58336457, 0.66310629, 0.80112883],\n",
       "       [0.5331758 , 1.40742223, 0.91264291, 0.8852864 ],\n",
       "       [0.64242588, 1.2314799 , 1.16217953, 0.96944397],\n",
       "       [0.56259096, 1.58142355, 0.96922127, 0.673334  ],\n",
       "       [0.50376232, 1.80596839, 0.10526773, 0.23072752],\n",
       "       [0.40711634, 1.52309494, 1.42644644, 0.85099998],\n",
       "       [0.43653319, 0.75321891, 1.18849575, 1.39334877],\n",
       "       [0.59620637, 0.96415794, 0.6746875 , 1.31750306],\n",
       "       [0.75587956, 1.17509698, 0.16087926, 1.24165735],\n",
       "       [0.91555274, 1.38603601, 0.35292898, 1.16581164],\n",
       "       [1.05841654, 0.90194496, 0.02595083, 0.61411201],\n",
       "       [1.06261679, 0.58991421, 0.77463151, 0.86658472],\n",
       "       [1.30212657, 0.45868534, 0.13147063, 0.92268977],\n",
       "       [1.1676683 , 0.29246211, 0.44976642, 1.27490478],\n",
       "       [1.28532181, 0.26257167, 0.00825325, 1.1206159 ],\n",
       "       [1.40297531, 0.23268123, 0.46627292, 0.96632702],\n",
       "       [1.52062882, 0.2027908 , 0.92429258, 0.81203814],\n",
       "       [1.63828232, 0.17290036, 1.38231225, 0.65774927],\n",
       "       [1.58365897, 0.45576681, 0.02595083, 0.15903774],\n",
       "       [1.33574366, 2.14839484, 1.18072827, 0.85411693],\n",
       "       [0.8567241 , 1.80428126, 0.62599156, 1.35906235],\n",
       "       [0.95476848, 1.23076328, 0.00644634, 1.12529132],\n",
       "       [1.05281286, 0.6572453 , 0.61309888, 0.89152029],\n",
       "       [1.15085723, 0.08372732, 1.2326441 , 0.65774927],\n",
       "       [1.29792632, 0.09830597, 0.29908423, 0.9382745 ],\n",
       "       [1.64248257, 0.0708288 , 1.02130706, 0.66710011],\n",
       "       [1.80635768, 0.30536063, 0.83624375, 0.31488509],\n",
       "       [1.5374361 , 0.04873295, 0.9683772 , 1.10035575],\n",
       "       [1.33574366, 0.30633114, 0.1903351 , 1.1502269 ],\n",
       "       [1.13405121, 0.56392932, 0.587707  , 1.20009805],\n",
       "       [0.93235877, 0.82152751, 1.36574909, 1.24996921],\n",
       "       [0.77688919, 0.7340416 , 0.85490579, 0.82606441],\n",
       "       [0.89034119, 0.98191368, 0.58088583, 0.95697618],\n",
       "       [0.89874168, 0.53450413, 0.03474651, 0.25878004],\n",
       "       [1.00379319, 0.8669506 , 0.93332196, 1.24996921],\n",
       "       [0.97998171, 0.89125302, 0.87456136, 1.0795761 ],\n",
       "       [0.95617024, 0.91555544, 0.81580076, 0.90918299],\n",
       "       [0.93235877, 0.93985786, 0.75704016, 0.73878989],\n",
       "       [1.16346301, 1.10899962, 0.53679414, 0.97256092],\n",
       "       [1.42818435, 0.66865153, 0.5192736 , 0.6203459 ],\n",
       "       [1.40297279, 0.63948723, 0.42320942, 0.8852864 ],\n",
       "       [1.38196652, 0.27036626, 0.18555617, 1.58036559],\n",
       "       [1.31193386, 0.07206486, 0.35472881, 1.46088262],\n",
       "       [1.2419012 , 0.12623654, 0.89501379, 1.34139965],\n",
       "       [1.17186855, 0.32453794, 1.43529877, 1.22191668],\n",
       "       [1.48281275, 0.15540318, 0.91556064, 0.84164914],\n",
       "       [1.40297279, 0.79819327, 0.74921603, 1.203215  ],\n",
       "       [1.24330297, 1.24437142, 0.3344369 , 1.76114852],\n",
       "       [1.37356099, 1.50974768, 1.50583415, 2.44375993],\n",
       "       [1.40402537, 1.17001014, 1.42209109, 2.27622403],\n",
       "       [1.43448976, 0.8302726 , 1.33834803, 2.10868812],\n",
       "       [1.46495414, 0.49053506, 1.25460496, 1.94115222],\n",
       "       [1.49541852, 0.15079752, 1.1708619 , 1.77361631],\n",
       "       [1.36095521, 0.91944214, 0.83624375, 1.00373039],\n",
       "       [1.51222455, 0.27496492, 0.70428026, 0.91022198],\n",
       "       [1.30633186, 1.02151371, 0.22952039, 0.71697126],\n",
       "       [1.39597238, 0.7366969 , 0.49961331, 0.74917971],\n",
       "       [1.48561291, 0.4518801 , 0.76970622, 0.78138817],\n",
       "       [1.57525344, 0.1670633 , 1.03979914, 0.81359662],\n",
       "       [1.7349283 , 0.3695123 , 0.12280243, 0.62346285]])"
      ]
     },
     "execution_count": 37,
     "metadata": {},
     "output_type": "execute_result"
    }
   ],
   "source": [
    "from scipy.stats import zscore\n",
    "z=np.abs(zscore(df))\n",
    "z"
   ]
  },
  {
   "cell_type": "code",
   "execution_count": 47,
   "metadata": {
    "scrolled": true
   },
   "outputs": [
    {
     "name": "stdout",
     "output_type": "stream",
     "text": [
      "(array([  0,   0,   0,   0,   1,   1,   1,   1,   2,   2,   2,   2,   3,\n",
      "         3,   3,   3,   4,   4,   4,   4,   5,   5,   5,   5,   6,   6,\n",
      "         6,   6,   7,   7,   7,   7,   8,   8,   8,   8,   9,   9,   9,\n",
      "         9,  10,  10,  10,  10,  11,  11,  11,  11,  12,  12,  12,  12,\n",
      "        13,  13,  13,  13,  14,  14,  14,  14,  15,  15,  15,  15,  16,\n",
      "        16,  16,  16,  17,  17,  17,  17,  18,  18,  18,  18,  19,  19,\n",
      "        19,  19,  20,  20,  20,  20,  21,  21,  21,  21,  22,  22,  22,\n",
      "        22,  23,  23,  23,  23,  24,  24,  24,  24,  25,  25,  25,  25,\n",
      "        26,  26,  26,  26,  27,  27,  27,  27,  28,  28,  28,  28,  29,\n",
      "        29,  29,  29,  30,  30,  30,  30,  31,  31,  31,  31,  32,  32,\n",
      "        32,  32,  33,  33,  33,  33,  34,  34,  34,  34,  35,  35,  35,\n",
      "        35,  36,  36,  36,  36,  37,  37,  37,  37,  38,  38,  38,  38,\n",
      "        39,  39,  39,  39,  40,  40,  40,  40,  41,  41,  41,  41,  42,\n",
      "        42,  42,  42,  43,  43,  43,  43,  44,  44,  44,  44,  45,  45,\n",
      "        45,  45,  46,  46,  46,  46,  47,  47,  47,  47,  48,  48,  48,\n",
      "        48,  49,  49,  49,  49,  50,  50,  50,  50,  51,  51,  51,  51,\n",
      "        52,  52,  52,  52,  53,  53,  53,  53,  54,  54,  54,  54,  55,\n",
      "        55,  55,  55,  56,  56,  56,  56,  57,  57,  57,  57,  58,  58,\n",
      "        58,  58,  59,  59,  59,  59,  60,  60,  60,  60,  61,  61,  61,\n",
      "        61,  62,  62,  62,  62,  63,  63,  63,  63,  64,  64,  64,  64,\n",
      "        65,  65,  65,  65,  66,  66,  66,  67,  67,  67,  67,  68,  68,\n",
      "        68,  68,  69,  69,  69,  69,  70,  70,  70,  70,  71,  71,  71,\n",
      "        71,  72,  72,  72,  72,  73,  73,  73,  73,  74,  74,  74,  74,\n",
      "        75,  75,  75,  75,  76,  76,  76,  76,  77,  77,  77,  77,  78,\n",
      "        78,  78,  78,  79,  79,  79,  79,  80,  80,  80,  80,  81,  81,\n",
      "        81,  81,  82,  82,  82,  82,  83,  83,  83,  83,  84,  84,  84,\n",
      "        84,  85,  85,  85,  85,  86,  86,  86,  86,  87,  87,  87,  87,\n",
      "        88,  88,  88,  88,  89,  89,  89,  89,  90,  90,  90,  90,  91,\n",
      "        91,  91,  91,  92,  92,  92,  92,  93,  93,  93,  93,  94,  94,\n",
      "        94,  94,  95,  95,  95,  95,  96,  96,  96,  96,  97,  97,  97,\n",
      "        97,  98,  98,  98,  98,  99,  99,  99,  99, 100, 100, 100, 100,\n",
      "       101, 101, 101, 101, 102, 102, 102, 102, 103, 103, 103, 103, 104,\n",
      "       104, 104, 104, 105, 105, 105, 105, 106, 106, 106, 106, 107, 107,\n",
      "       107, 107, 108, 108, 108, 108, 109, 109, 109, 109, 110, 110, 110,\n",
      "       110, 111, 111, 111, 111, 112, 112, 112, 112, 113, 113, 113, 113,\n",
      "       114, 114, 114, 114, 115, 115, 115, 115, 116, 116, 116, 116, 117,\n",
      "       117, 117, 117, 118, 118, 118, 118, 119, 119, 119, 119, 120, 120,\n",
      "       120, 120, 121, 121, 121, 121, 122, 122, 122, 122, 123, 123, 123,\n",
      "       123, 124, 124, 124, 124, 125, 125, 125, 125, 126, 126, 126, 126,\n",
      "       127, 127, 127, 127, 128, 128, 128, 128, 129, 129, 129, 129, 130,\n",
      "       130, 130, 130, 131, 131, 131, 131, 132, 132, 132, 132, 133, 133,\n",
      "       133, 133, 134, 134, 134, 134, 135, 135, 135, 135, 136, 136, 136,\n",
      "       136, 137, 137, 137, 137, 138, 138, 138, 138, 139, 139, 139, 139,\n",
      "       140, 140, 140, 140, 141, 141, 141, 141, 142, 142, 142, 142, 143,\n",
      "       143, 143, 143, 144, 144, 144, 144, 145, 145, 145, 145, 146, 146,\n",
      "       146, 146, 147, 147, 147, 147, 148, 148, 148, 148, 149, 149, 149,\n",
      "       149, 150, 150, 150, 150, 151, 151, 151, 151, 152, 152, 152, 152,\n",
      "       153, 153, 153, 153, 154, 154, 154, 154, 155, 155, 155, 155, 156,\n",
      "       156, 156, 156, 157, 157, 157, 157, 158, 158, 158, 158, 159, 159,\n",
      "       159, 159, 160, 160, 160, 160, 161, 161, 161, 161, 162, 162, 162,\n",
      "       162, 163, 163, 163, 163, 164, 164, 164, 164, 165, 165, 165, 165,\n",
      "       166, 166, 166, 166, 167, 167, 167, 167, 168, 168, 168, 168, 169,\n",
      "       169, 169, 169, 170, 170, 170, 170, 171, 171, 171, 171, 172, 172,\n",
      "       172, 172, 173, 173, 173, 173, 174, 174, 174, 174, 175, 175, 175,\n",
      "       175, 176, 176, 176, 176, 177, 177, 177, 177, 178, 178, 178, 178,\n",
      "       179, 179, 179, 179, 180, 180, 180, 180, 181, 181, 181, 181, 182,\n",
      "       182, 182, 182, 183, 183, 183, 183, 184, 184, 184, 184, 185, 185,\n",
      "       185, 185, 186, 186, 186, 186, 187, 187, 187, 187, 188, 188, 188,\n",
      "       188, 189, 189, 189, 189, 190, 190, 190, 190], dtype=int64), array([0, 1, 2, 3, 0, 1, 2, 3, 0, 1, 2, 3, 0, 1, 2, 3, 0, 1, 2, 3, 0, 1,\n",
      "       2, 3, 0, 1, 2, 3, 0, 1, 2, 3, 0, 1, 2, 3, 0, 1, 2, 3, 0, 1, 2, 3,\n",
      "       0, 1, 2, 3, 0, 1, 2, 3, 0, 1, 2, 3, 0, 1, 2, 3, 0, 1, 2, 3, 0, 1,\n",
      "       2, 3, 0, 1, 2, 3, 0, 1, 2, 3, 0, 1, 2, 3, 0, 1, 2, 3, 0, 1, 2, 3,\n",
      "       0, 1, 2, 3, 0, 1, 2, 3, 0, 1, 2, 3, 0, 1, 2, 3, 0, 1, 2, 3, 0, 1,\n",
      "       2, 3, 0, 1, 2, 3, 0, 1, 2, 3, 0, 1, 2, 3, 0, 1, 2, 3, 0, 1, 2, 3,\n",
      "       0, 1, 2, 3, 0, 1, 2, 3, 0, 1, 2, 3, 0, 1, 2, 3, 0, 1, 2, 3, 0, 1,\n",
      "       2, 3, 0, 1, 2, 3, 0, 1, 2, 3, 0, 1, 2, 3, 0, 1, 2, 3, 0, 1, 2, 3,\n",
      "       0, 1, 2, 3, 0, 1, 2, 3, 0, 1, 2, 3, 0, 1, 2, 3, 0, 1, 2, 3, 0, 1,\n",
      "       2, 3, 0, 1, 2, 3, 0, 1, 2, 3, 0, 1, 2, 3, 0, 1, 2, 3, 0, 1, 2, 3,\n",
      "       0, 1, 2, 3, 0, 1, 2, 3, 0, 1, 2, 3, 0, 1, 2, 3, 0, 1, 2, 3, 0, 1,\n",
      "       2, 3, 0, 1, 2, 3, 0, 1, 2, 3, 0, 1, 2, 3, 0, 1, 2, 3, 0, 1, 2, 3,\n",
      "       0, 2, 3, 0, 1, 2, 3, 0, 1, 2, 3, 0, 1, 2, 3, 0, 1, 2, 3, 0, 1, 2,\n",
      "       3, 0, 1, 2, 3, 0, 1, 2, 3, 0, 1, 2, 3, 0, 1, 2, 3, 0, 1, 2, 3, 0,\n",
      "       1, 2, 3, 0, 1, 2, 3, 0, 1, 2, 3, 0, 1, 2, 3, 0, 1, 2, 3, 0, 1, 2,\n",
      "       3, 0, 1, 2, 3, 0, 1, 2, 3, 0, 1, 2, 3, 0, 1, 2, 3, 0, 1, 2, 3, 0,\n",
      "       1, 2, 3, 0, 1, 2, 3, 0, 1, 2, 3, 0, 1, 2, 3, 0, 1, 2, 3, 0, 1, 2,\n",
      "       3, 0, 1, 2, 3, 0, 1, 2, 3, 0, 1, 2, 3, 0, 1, 2, 3, 0, 1, 2, 3, 0,\n",
      "       1, 2, 3, 0, 1, 2, 3, 0, 1, 2, 3, 0, 1, 2, 3, 0, 1, 2, 3, 0, 1, 2,\n",
      "       3, 0, 1, 2, 3, 0, 1, 2, 3, 0, 1, 2, 3, 0, 1, 2, 3, 0, 1, 2, 3, 0,\n",
      "       1, 2, 3, 0, 1, 2, 3, 0, 1, 2, 3, 0, 1, 2, 3, 0, 1, 2, 3, 0, 1, 2,\n",
      "       3, 0, 1, 2, 3, 0, 1, 2, 3, 0, 1, 2, 3, 0, 1, 2, 3, 0, 1, 2, 3, 0,\n",
      "       1, 2, 3, 0, 1, 2, 3, 0, 1, 2, 3, 0, 1, 2, 3, 0, 1, 2, 3, 0, 1, 2,\n",
      "       3, 0, 1, 2, 3, 0, 1, 2, 3, 0, 1, 2, 3, 0, 1, 2, 3, 0, 1, 2, 3, 0,\n",
      "       1, 2, 3, 0, 1, 2, 3, 0, 1, 2, 3, 0, 1, 2, 3, 0, 1, 2, 3, 0, 1, 2,\n",
      "       3, 0, 1, 2, 3, 0, 1, 2, 3, 0, 1, 2, 3, 0, 1, 2, 3, 0, 1, 2, 3, 0,\n",
      "       1, 2, 3, 0, 1, 2, 3, 0, 1, 2, 3, 0, 1, 2, 3, 0, 1, 2, 3, 0, 1, 2,\n",
      "       3, 0, 1, 2, 3, 0, 1, 2, 3, 0, 1, 2, 3, 0, 1, 2, 3, 0, 1, 2, 3, 0,\n",
      "       1, 2, 3, 0, 1, 2, 3, 0, 1, 2, 3, 0, 1, 2, 3, 0, 1, 2, 3, 0, 1, 2,\n",
      "       3, 0, 1, 2, 3, 0, 1, 2, 3, 0, 1, 2, 3, 0, 1, 2, 3, 0, 1, 2, 3, 0,\n",
      "       1, 2, 3, 0, 1, 2, 3, 0, 1, 2, 3, 0, 1, 2, 3, 0, 1, 2, 3, 0, 1, 2,\n",
      "       3, 0, 1, 2, 3, 0, 1, 2, 3, 0, 1, 2, 3, 0, 1, 2, 3, 0, 1, 2, 3, 0,\n",
      "       1, 2, 3, 0, 1, 2, 3, 0, 1, 2, 3, 0, 1, 2, 3, 0, 1, 2, 3, 0, 1, 2,\n",
      "       3, 0, 1, 2, 3, 0, 1, 2, 3, 0, 1, 2, 3, 0, 1, 2, 3, 0, 1, 2, 3, 0,\n",
      "       1, 2, 3, 0, 1, 2, 3, 0, 1, 2, 3, 0, 1, 2, 3], dtype=int64))\n"
     ]
    }
   ],
   "source": [
    "threshold=3\n",
    "print(np.where(z<3))"
   ]
  },
  {
   "cell_type": "code",
   "execution_count": 49,
   "metadata": {},
   "outputs": [
    {
     "data": {
      "text/html": [
       "<div>\n",
       "<style scoped>\n",
       "    .dataframe tbody tr th:only-of-type {\n",
       "        vertical-align: middle;\n",
       "    }\n",
       "\n",
       "    .dataframe tbody tr th {\n",
       "        vertical-align: top;\n",
       "    }\n",
       "\n",
       "    .dataframe thead th {\n",
       "        text-align: right;\n",
       "    }\n",
       "</style>\n",
       "<table border=\"1\" class=\"dataframe\">\n",
       "  <thead>\n",
       "    <tr style=\"text-align: right;\">\n",
       "      <th></th>\n",
       "      <th>temperature</th>\n",
       "      <th>humidity</th>\n",
       "      <th>windspeed</th>\n",
       "      <th>count</th>\n",
       "    </tr>\n",
       "  </thead>\n",
       "  <tbody>\n",
       "    <tr>\n",
       "      <td>count</td>\n",
       "      <td>191.000000</td>\n",
       "      <td>191.000000</td>\n",
       "      <td>191.000000</td>\n",
       "      <td>191.000000</td>\n",
       "    </tr>\n",
       "    <tr>\n",
       "      <td>mean</td>\n",
       "      <td>15.319033</td>\n",
       "      <td>55.469244</td>\n",
       "      <td>18.605591</td>\n",
       "      <td>461.976440</td>\n",
       "    </tr>\n",
       "    <tr>\n",
       "      <td>std</td>\n",
       "      <td>9.876723</td>\n",
       "      <td>7.998748</td>\n",
       "      <td>5.049424</td>\n",
       "      <td>321.669925</td>\n",
       "    </tr>\n",
       "    <tr>\n",
       "      <td>min</td>\n",
       "      <td>-2.200000</td>\n",
       "      <td>21.300000</td>\n",
       "      <td>6.941802</td>\n",
       "      <td>9.000000</td>\n",
       "    </tr>\n",
       "    <tr>\n",
       "      <td>25%</td>\n",
       "      <td>6.091402</td>\n",
       "      <td>49.593148</td>\n",
       "      <td>14.600733</td>\n",
       "      <td>144.000000</td>\n",
       "    </tr>\n",
       "    <tr>\n",
       "      <td>50%</td>\n",
       "      <td>15.769749</td>\n",
       "      <td>55.080463</td>\n",
       "      <td>18.474898</td>\n",
       "      <td>460.000000</td>\n",
       "    </tr>\n",
       "    <tr>\n",
       "      <td>75%</td>\n",
       "      <td>24.255189</td>\n",
       "      <td>62.046729</td>\n",
       "      <td>21.621460</td>\n",
       "      <td>740.333333</td>\n",
       "    </tr>\n",
       "    <tr>\n",
       "      <td>max</td>\n",
       "      <td>33.113161</td>\n",
       "      <td>72.575560</td>\n",
       "      <td>33.512660</td>\n",
       "      <td>1246.000000</td>\n",
       "    </tr>\n",
       "  </tbody>\n",
       "</table>\n",
       "</div>"
      ],
      "text/plain": [
       "       temperature    humidity   windspeed        count\n",
       "count   191.000000  191.000000  191.000000   191.000000\n",
       "mean     15.319033   55.469244   18.605591   461.976440\n",
       "std       9.876723    7.998748    5.049424   321.669925\n",
       "min      -2.200000   21.300000    6.941802     9.000000\n",
       "25%       6.091402   49.593148   14.600733   144.000000\n",
       "50%      15.769749   55.080463   18.474898   460.000000\n",
       "75%      24.255189   62.046729   21.621460   740.333333\n",
       "max      33.113161   72.575560   33.512660  1246.000000"
      ]
     },
     "execution_count": 49,
     "metadata": {},
     "output_type": "execute_result"
    }
   ],
   "source": [
    "df.describe()"
   ]
  },
  {
   "cell_type": "markdown",
   "metadata": {},
   "source": [
    "# correlation"
   ]
  },
  {
   "cell_type": "code",
   "execution_count": 39,
   "metadata": {},
   "outputs": [
    {
     "data": {
      "image/png": "[encoded data removed]",
      "text/plain": [
       "<Figure size 576x504 with 2 Axes>"
      ]
     },
     "metadata": {
      "needs_background": "light"
     },
     "output_type": "display_data"
    }
   ],
   "source": [
    "corr_hmap=df.corr()\n",
    "plt.figure(figsize=(8,7))\n",
    "sns.heatmap(corr_hmap,annot=True)\n",
    "plt.show()"
   ]
  },
  {
   "cell_type": "markdown",
   "metadata": {},
   "source": [
    "# Now Training"
   ]
  },
  {
   "cell_type": "code",
   "execution_count": 42,
   "metadata": {},
   "outputs": [
    {
     "data": {
      "text/html": [
       "<div>\n",
       "<style scoped>\n",
       "    .dataframe tbody tr th:only-of-type {\n",
       "        vertical-align: middle;\n",
       "    }\n",
       "\n",
       "    .dataframe tbody tr th {\n",
       "        vertical-align: top;\n",
       "    }\n",
       "\n",
       "    .dataframe thead th {\n",
       "        text-align: right;\n",
       "    }\n",
       "</style>\n",
       "<table border=\"1\" class=\"dataframe\">\n",
       "  <thead>\n",
       "    <tr style=\"text-align: right;\">\n",
       "      <th></th>\n",
       "      <th>temperature</th>\n",
       "      <th>humidity</th>\n",
       "      <th>windspeed</th>\n",
       "    </tr>\n",
       "  </thead>\n",
       "  <tbody>\n",
       "    <tr>\n",
       "      <td>0</td>\n",
       "      <td>2.716070</td>\n",
       "      <td>45.715346</td>\n",
       "      <td>21.414957</td>\n",
       "    </tr>\n",
       "    <tr>\n",
       "      <td>1</td>\n",
       "      <td>2.896673</td>\n",
       "      <td>54.267219</td>\n",
       "      <td>15.136882</td>\n",
       "    </tr>\n",
       "    <tr>\n",
       "      <td>2</td>\n",
       "      <td>4.235654</td>\n",
       "      <td>45.697702</td>\n",
       "      <td>17.034578</td>\n",
       "    </tr>\n",
       "    <tr>\n",
       "      <td>3</td>\n",
       "      <td>3.112643</td>\n",
       "      <td>50.237349</td>\n",
       "      <td>10.091568</td>\n",
       "    </tr>\n",
       "    <tr>\n",
       "      <td>4</td>\n",
       "      <td>2.723918</td>\n",
       "      <td>49.144928</td>\n",
       "      <td>15.738204</td>\n",
       "    </tr>\n",
       "  </tbody>\n",
       "</table>\n",
       "</div>"
      ],
      "text/plain": [
       "   temperature   humidity  windspeed\n",
       "0     2.716070  45.715346  21.414957\n",
       "1     2.896673  54.267219  15.136882\n",
       "2     4.235654  45.697702  17.034578\n",
       "3     3.112643  50.237349  10.091568\n",
       "4     2.723918  49.144928  15.738204"
      ]
     },
     "execution_count": 42,
     "metadata": {},
     "output_type": "execute_result"
    }
   ],
   "source": [
    "x=df.iloc[:,0:-1]\n",
    "x.head()"
   ]
  },
  {
   "cell_type": "code",
   "execution_count": 43,
   "metadata": {},
   "outputs": [
    {
     "data": {
      "text/plain": [
       "0    120.0\n",
       "1    108.0\n",
       "2     82.0\n",
       "3     88.0\n",
       "4    148.0\n",
       "Name: count, dtype: float64"
      ]
     },
     "execution_count": 43,
     "metadata": {},
     "output_type": "execute_result"
    }
   ],
   "source": [
    "y=df.iloc[:,-1]\n",
    "y.head()"
   ]
  },
  {
   "cell_type": "code",
   "execution_count": 44,
   "metadata": {},
   "outputs": [
    {
     "data": {
      "text/plain": [
       "(191, 3)"
      ]
     },
     "execution_count": 44,
     "metadata": {},
     "output_type": "execute_result"
    }
   ],
   "source": [
    "x.shape"
   ]
  },
  {
   "cell_type": "code",
   "execution_count": 45,
   "metadata": {},
   "outputs": [
    {
     "data": {
      "text/plain": [
       "(191,)"
      ]
     },
     "execution_count": 45,
     "metadata": {},
     "output_type": "execute_result"
    }
   ],
   "source": [
    "y.shape"
   ]
  },
  {
   "cell_type": "code",
   "execution_count": 58,
   "metadata": {},
   "outputs": [],
   "source": [
    "from sklearn.preprocessing import StandardScaler\n",
    "scale=StandardScaler()\n",
    "x=scale.fit_transform(x)\n",
    "x_train,x_test,y_train,y_test=train_test_split(x,y,test_size=.33,random_state=45)"
   ]
  },
  {
   "cell_type": "code",
   "execution_count": 59,
   "metadata": {},
   "outputs": [
    {
     "data": {
      "text/html": [
       "<div>\n",
       "<style scoped>\n",
       "    .dataframe tbody tr th:only-of-type {\n",
       "        vertical-align: middle;\n",
       "    }\n",
       "\n",
       "    .dataframe tbody tr th {\n",
       "        vertical-align: top;\n",
       "    }\n",
       "\n",
       "    .dataframe thead th {\n",
       "        text-align: right;\n",
       "    }\n",
       "</style>\n",
       "<table border=\"1\" class=\"dataframe\">\n",
       "  <thead>\n",
       "    <tr style=\"text-align: right;\">\n",
       "      <th></th>\n",
       "      <th>temperature</th>\n",
       "      <th>humidity</th>\n",
       "      <th>windspeed</th>\n",
       "      <th>count</th>\n",
       "    </tr>\n",
       "  </thead>\n",
       "  <tbody>\n",
       "    <tr>\n",
       "      <td>count</td>\n",
       "      <td>191.000000</td>\n",
       "      <td>191.000000</td>\n",
       "      <td>191.000000</td>\n",
       "      <td>191.000000</td>\n",
       "    </tr>\n",
       "    <tr>\n",
       "      <td>mean</td>\n",
       "      <td>15.319033</td>\n",
       "      <td>55.469244</td>\n",
       "      <td>18.605591</td>\n",
       "      <td>461.976440</td>\n",
       "    </tr>\n",
       "    <tr>\n",
       "      <td>std</td>\n",
       "      <td>9.876723</td>\n",
       "      <td>7.998748</td>\n",
       "      <td>5.049424</td>\n",
       "      <td>321.669925</td>\n",
       "    </tr>\n",
       "    <tr>\n",
       "      <td>min</td>\n",
       "      <td>-2.200000</td>\n",
       "      <td>21.300000</td>\n",
       "      <td>6.941802</td>\n",
       "      <td>9.000000</td>\n",
       "    </tr>\n",
       "    <tr>\n",
       "      <td>25%</td>\n",
       "      <td>6.091402</td>\n",
       "      <td>49.593148</td>\n",
       "      <td>14.600733</td>\n",
       "      <td>144.000000</td>\n",
       "    </tr>\n",
       "    <tr>\n",
       "      <td>50%</td>\n",
       "      <td>15.769749</td>\n",
       "      <td>55.080463</td>\n",
       "      <td>18.474898</td>\n",
       "      <td>460.000000</td>\n",
       "    </tr>\n",
       "    <tr>\n",
       "      <td>75%</td>\n",
       "      <td>24.255189</td>\n",
       "      <td>62.046729</td>\n",
       "      <td>21.621460</td>\n",
       "      <td>740.333333</td>\n",
       "    </tr>\n",
       "    <tr>\n",
       "      <td>max</td>\n",
       "      <td>33.113161</td>\n",
       "      <td>72.575560</td>\n",
       "      <td>33.512660</td>\n",
       "      <td>1246.000000</td>\n",
       "    </tr>\n",
       "  </tbody>\n",
       "</table>\n",
       "</div>"
      ],
      "text/plain": [
       "       temperature    humidity   windspeed        count\n",
       "count   191.000000  191.000000  191.000000   191.000000\n",
       "mean     15.319033   55.469244   18.605591   461.976440\n",
       "std       9.876723    7.998748    5.049424   321.669925\n",
       "min      -2.200000   21.300000    6.941802     9.000000\n",
       "25%       6.091402   49.593148   14.600733   144.000000\n",
       "50%      15.769749   55.080463   18.474898   460.000000\n",
       "75%      24.255189   62.046729   21.621460   740.333333\n",
       "max      33.113161   72.575560   33.512660  1246.000000"
      ]
     },
     "execution_count": 59,
     "metadata": {},
     "output_type": "execute_result"
    }
   ],
   "source": [
    "df.describe()"
   ]
  },
  {
   "cell_type": "code",
   "execution_count": 60,
   "metadata": {},
   "outputs": [
    {
     "data": {
      "text/plain": [
       "(127, 3)"
      ]
     },
     "execution_count": 60,
     "metadata": {},
     "output_type": "execute_result"
    }
   ],
   "source": [
    "x_train.shape"
   ]
  },
  {
   "cell_type": "code",
   "execution_count": 61,
   "metadata": {},
   "outputs": [
    {
     "data": {
      "text/plain": [
       "(127,)"
      ]
     },
     "execution_count": 61,
     "metadata": {},
     "output_type": "execute_result"
    }
   ],
   "source": [
    "y_train.shape"
   ]
  },
  {
   "cell_type": "code",
   "execution_count": 62,
   "metadata": {},
   "outputs": [
    {
     "data": {
      "text/plain": [
       "(64, 3)"
      ]
     },
     "execution_count": 62,
     "metadata": {},
     "output_type": "execute_result"
    }
   ],
   "source": [
    "x_test.shape"
   ]
  },
  {
   "cell_type": "code",
   "execution_count": 63,
   "metadata": {},
   "outputs": [
    {
     "data": {
      "text/plain": [
       "(64,)"
      ]
     },
     "execution_count": 63,
     "metadata": {},
     "output_type": "execute_result"
    }
   ],
   "source": [
    "y_test.shape"
   ]
  },
  {
   "cell_type": "code",
   "execution_count": 64,
   "metadata": {},
   "outputs": [],
   "source": [
    "lm=LinearRegression()"
   ]
  },
  {
   "cell_type": "code",
   "execution_count": 65,
   "metadata": {},
   "outputs": [
    {
     "data": {
      "text/plain": [
       "LinearRegression(copy_X=True, fit_intercept=True, n_jobs=None, normalize=False)"
      ]
     },
     "execution_count": 65,
     "metadata": {},
     "output_type": "execute_result"
    }
   ],
   "source": [
    "lm.fit(x_train,y_train)"
   ]
  },
  {
   "cell_type": "code",
   "execution_count": 66,
   "metadata": {},
   "outputs": [
    {
     "data": {
      "text/plain": [
       "array([277.77450073, -34.12722484, -25.93000403])"
      ]
     },
     "execution_count": 66,
     "metadata": {},
     "output_type": "execute_result"
    }
   ],
   "source": [
    "lm.coef_"
   ]
  },
  {
   "cell_type": "code",
   "execution_count": 67,
   "metadata": {},
   "outputs": [
    {
     "data": {
      "text/plain": [
       "457.27494032409174"
      ]
     },
     "execution_count": 67,
     "metadata": {},
     "output_type": "execute_result"
    }
   ],
   "source": [
    "lm.intercept_"
   ]
  },
  {
   "cell_type": "code",
   "execution_count": 68,
   "metadata": {},
   "outputs": [
    {
     "data": {
      "text/plain": [
       "Index(['temperature', 'humidity', 'windspeed', 'count'], dtype='object')"
      ]
     },
     "execution_count": 68,
     "metadata": {},
     "output_type": "execute_result"
    }
   ],
   "source": [
    "df.columns"
   ]
  },
  {
   "cell_type": "code",
   "execution_count": 70,
   "metadata": {},
   "outputs": [
    {
     "data": {
      "text/plain": [
       "0.8070421369831072"
      ]
     },
     "execution_count": 70,
     "metadata": {},
     "output_type": "execute_result"
    }
   ],
   "source": [
    "lm.score(x_train,y_train)"
   ]
  },
  {
   "cell_type": "markdown",
   "metadata": {},
   "source": [
    "# Now predict the values"
   ]
  },
  {
   "cell_type": "code",
   "execution_count": 71,
   "metadata": {},
   "outputs": [
    {
     "name": "stdout",
     "output_type": "stream",
     "text": [
      "Predicted_value: [179.29564831  96.82955759 545.59754215 721.16809436 534.44685638\n",
      " 845.56537931 100.05521121 550.89708857 631.30780828 806.72787416\n",
      " 853.7716947  603.94893384 821.14303575 764.320659   237.23700251\n",
      " 808.93186397 355.89938524 689.58229583 458.91661227 185.07177841\n",
      " 231.78711358 269.9049978   57.95874668 924.08141438 844.63367973\n",
      " 647.58891812 929.38494295 129.15607034 918.7778858  583.6451566\n",
      " 455.07178135 498.55493226 476.0716784  339.8178167  171.46883606\n",
      "  90.08574591 343.80550933 301.90425764 558.9372895  183.62375219\n",
      " 595.80654665 166.93134918 101.23972931 445.57107897 756.52729252\n",
      " 567.15473484  65.95921534 301.22300818 314.61808894 708.88300574\n",
      " 623.83279617 308.3147454  843.70008926 234.49663986 298.53179326\n",
      " 851.13540114 478.30602887 828.91594202 211.15439046 896.71307452\n",
      " 143.93445526 703.81574524 776.2915475   96.73205611]\n",
      "actual_value: 3       88.000000\n",
      "13      31.500000\n",
      "102    564.000000\n",
      "141    659.000000\n",
      "134    678.000000\n",
      "          ...    \n",
      "147    722.500000\n",
      "4      148.000000\n",
      "168    699.000000\n",
      "160    847.000000\n",
      "26      39.333333\n",
      "Name: count, Length: 64, dtype: float64\n"
     ]
    }
   ],
   "source": [
    "pred=lm.predict(x_test)\n",
    "print('Predicted_value:',pred)\n",
    "print('actual_value:',y_test)"
   ]
  },
  {
   "cell_type": "raw",
   "metadata": {},
   "source": [
    "# or we can do like this"
   ]
  },
  {
   "cell_type": "code",
   "execution_count": 72,
   "metadata": {},
   "outputs": [
    {
     "data": {
      "text/html": [
       "<div>\n",
       "<style scoped>\n",
       "    .dataframe tbody tr th:only-of-type {\n",
       "        vertical-align: middle;\n",
       "    }\n",
       "\n",
       "    .dataframe tbody tr th {\n",
       "        vertical-align: top;\n",
       "    }\n",
       "\n",
       "    .dataframe thead th {\n",
       "        text-align: right;\n",
       "    }\n",
       "</style>\n",
       "<table border=\"1\" class=\"dataframe\">\n",
       "  <thead>\n",
       "    <tr style=\"text-align: right;\">\n",
       "      <th></th>\n",
       "      <th>Actual</th>\n",
       "      <th>Predicted</th>\n",
       "    </tr>\n",
       "  </thead>\n",
       "  <tbody>\n",
       "    <tr>\n",
       "      <td>3</td>\n",
       "      <td>88.000000</td>\n",
       "      <td>179.295648</td>\n",
       "    </tr>\n",
       "    <tr>\n",
       "      <td>13</td>\n",
       "      <td>31.500000</td>\n",
       "      <td>96.829558</td>\n",
       "    </tr>\n",
       "    <tr>\n",
       "      <td>102</td>\n",
       "      <td>564.000000</td>\n",
       "      <td>545.597542</td>\n",
       "    </tr>\n",
       "    <tr>\n",
       "      <td>141</td>\n",
       "      <td>659.000000</td>\n",
       "      <td>721.168094</td>\n",
       "    </tr>\n",
       "    <tr>\n",
       "      <td>134</td>\n",
       "      <td>678.000000</td>\n",
       "      <td>534.446856</td>\n",
       "    </tr>\n",
       "    <tr>\n",
       "      <td>...</td>\n",
       "      <td>...</td>\n",
       "      <td>...</td>\n",
       "    </tr>\n",
       "    <tr>\n",
       "      <td>147</td>\n",
       "      <td>722.500000</td>\n",
       "      <td>896.713075</td>\n",
       "    </tr>\n",
       "    <tr>\n",
       "      <td>4</td>\n",
       "      <td>148.000000</td>\n",
       "      <td>143.934455</td>\n",
       "    </tr>\n",
       "    <tr>\n",
       "      <td>168</td>\n",
       "      <td>699.000000</td>\n",
       "      <td>703.815745</td>\n",
       "    </tr>\n",
       "    <tr>\n",
       "      <td>160</td>\n",
       "      <td>847.000000</td>\n",
       "      <td>776.291548</td>\n",
       "    </tr>\n",
       "    <tr>\n",
       "      <td>26</td>\n",
       "      <td>39.333333</td>\n",
       "      <td>96.732056</td>\n",
       "    </tr>\n",
       "  </tbody>\n",
       "</table>\n",
       "<p>64 rows × 2 columns</p>\n",
       "</div>"
      ],
      "text/plain": [
       "         Actual   Predicted\n",
       "3     88.000000  179.295648\n",
       "13    31.500000   96.829558\n",
       "102  564.000000  545.597542\n",
       "141  659.000000  721.168094\n",
       "134  678.000000  534.446856\n",
       "..          ...         ...\n",
       "147  722.500000  896.713075\n",
       "4    148.000000  143.934455\n",
       "168  699.000000  703.815745\n",
       "160  847.000000  776.291548\n",
       "26    39.333333   96.732056\n",
       "\n",
       "[64 rows x 2 columns]"
      ]
     },
     "execution_count": 72,
     "metadata": {},
     "output_type": "execute_result"
    }
   ],
   "source": [
    "df=pd.DataFrame({'Actual':y_test,'Predicted':pred})\n",
    "df"
   ]
  },
  {
   "cell_type": "code",
   "execution_count": 73,
   "metadata": {},
   "outputs": [
    {
     "name": "stdout",
     "output_type": "stream",
     "text": [
      "error:\n",
      "18804.3362869889\n"
     ]
    }
   ],
   "source": [
    "print('error:')\n",
    "print(mean_squared_error(y_test,pred))"
   ]
  },
  {
   "cell_type": "code",
   "execution_count": 75,
   "metadata": {},
   "outputs": [
    {
     "name": "stdout",
     "output_type": "stream",
     "text": [
      "0.8365029257195504\n"
     ]
    }
   ],
   "source": [
    "from sklearn.metrics import r2_score\n",
    "print(r2_score(y_test,pred))"
   ]
  },
  {
   "cell_type": "markdown",
   "metadata": {},
   "source": [
    "# Now predicting the New count by providing the New values"
   ]
  },
  {
   "cell_type": "code",
   "execution_count": 76,
   "metadata": {},
   "outputs": [
    {
     "data": {
      "text/plain": [
       "(3,)"
      ]
     },
     "execution_count": 76,
     "metadata": {},
     "output_type": "execute_result"
    }
   ],
   "source": [
    "t=np.array([2.716070,45.715346,21.414957])\n",
    "t.shape"
   ]
  },
  {
   "cell_type": "code",
   "execution_count": 80,
   "metadata": {},
   "outputs": [],
   "source": [
    "t=t.reshape(1,-1)"
   ]
  },
  {
   "cell_type": "code",
   "execution_count": 81,
   "metadata": {},
   "outputs": [
    {
     "data": {
      "text/plain": [
       "(1, 3)"
      ]
     },
     "execution_count": 81,
     "metadata": {},
     "output_type": "execute_result"
    }
   ],
   "source": [
    "t.shape"
   ]
  },
  {
   "cell_type": "code",
   "execution_count": 82,
   "metadata": {},
   "outputs": [
    {
     "data": {
      "text/plain": [
       "array([-903.69788437])"
      ]
     },
     "execution_count": 82,
     "metadata": {},
     "output_type": "execute_result"
    }
   ],
   "source": [
    "lm.predict(t)"
   ]
  },
  {
   "cell_type": "code",
   "execution_count": 83,
   "metadata": {},
   "outputs": [],
   "source": [
    "t=np.array([3.716070,40.715346,23.414957])"
   ]
  },
  {
   "cell_type": "code",
   "execution_count": 84,
   "metadata": {},
   "outputs": [
    {
     "data": {
      "text/plain": [
       "(3,)"
      ]
     },
     "execution_count": 84,
     "metadata": {},
     "output_type": "execute_result"
    }
   ],
   "source": [
    "t.shape"
   ]
  },
  {
   "cell_type": "code",
   "execution_count": 85,
   "metadata": {},
   "outputs": [],
   "source": [
    "t=t.reshape(1,-1)"
   ]
  },
  {
   "cell_type": "code",
   "execution_count": 86,
   "metadata": {},
   "outputs": [
    {
     "data": {
      "text/plain": [
       "(1, 3)"
      ]
     },
     "execution_count": 86,
     "metadata": {},
     "output_type": "execute_result"
    }
   ],
   "source": [
    "t.shape"
   ]
  },
  {
   "cell_type": "code",
   "execution_count": 87,
   "metadata": {},
   "outputs": [
    {
     "data": {
      "text/plain": [
       "array([-507.14726749])"
      ]
     },
     "execution_count": 87,
     "metadata": {},
     "output_type": "execute_result"
    }
   ],
   "source": [
    "lm.predict(t)"
   ]
  },
  {
   "cell_type": "code",
   "execution_count": null,
   "metadata": {},
   "outputs": [],
   "source": []
  }
 ],
 "metadata": {
  "kernelspec": {
   "display_name": "Python 3",
   "language": "python",
   "name": "python3"
  },
  "language_info": {
   "codemirror_mode": {
    "name": "ipython",
    "version": 3
   },
   "file_extension": ".py",
   "mimetype": "text/x-python",
   "name": "python",
   "nbconvert_exporter": "python",
   "pygments_lexer": "ipython3",
   "version": "3.7.2"
  }
 },
 "nbformat": 4,
 "nbformat_minor": 2
}
